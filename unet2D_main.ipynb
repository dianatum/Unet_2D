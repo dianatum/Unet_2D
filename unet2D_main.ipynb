{
 "cells": [
  {
   "cell_type": "code",
   "execution_count": null,
   "metadata": {
    "collapsed": true
   },
   "outputs": [],
   "source": [
    "import tensorflow as tf\n",
    "from unet_2d import *\n",
    "import math\n",
    "import numpy as np\n",
    "from matplotlib import pyplot as plt\n",
    "import os\n",
    "import nibabel as nib\n",
    "from nilearn import image\n",
    "import time\n",
    "import warnings\n",
    "warnings.filterwarnings(\"ignore\")\n",
    "\n",
    "ckpt_dir = \"checkpoint_directory\""
   ]
  },
  {
   "cell_type": "code",
   "execution_count": null,
   "metadata": {
    "collapsed": true
   },
   "outputs": [],
   "source": [
    "#Input Data\n",
    "\n",
    "im_dir = \"image_directory\"\n",
    "msk_dir = \"mask_directory\"\n",
    "\n",
    "im_list = os.listdir(im_dir)\n",
    "msk_list = os.listdir(msk_dir)\n",
    "\n",
    "im_list.sort()\n",
    "msk_list.sort()\n",
    "\n",
    "im_list = np.array([im_dir + x for x in im_list]) \n",
    "msk_list = np.array([msk_dir + x for x in msk_list])\n",
    "\n",
    "# Train & Validation split\n",
    "\n",
    "idx = np.arange(im_list.size)\n",
    "np.random.shuffle(idx)\n",
    "\n",
    "val_size = 50\n",
    "\n",
    "train_idx = idx[:-val_size]\n",
    "val_idx = idx[-val_size:]\n",
    "\n",
    "train_im_list = im_list[train_idx]\n",
    "train_msk_list = msk_list[train_idx]\n",
    "val_im_list = im_list[val_idx]\n",
    "val_msk_list = msk_list[val_idx]"
   ]
  },
  {
   "cell_type": "code",
   "execution_count": null,
   "metadata": {
    "collapsed": true
   },
   "outputs": [],
   "source": [
    "def preprocess_image(img):\n",
    "    path = \"path\" # Path to reference image\n",
    "    ref_img = nib.load(path)\n",
    "    affine = ref_img.get_affine()\n",
    "    shape = ref_img.get_shape()\n",
    "    im_res = image.resample_img(img, target_affine=affine, target_shape=shape, interpolation='continuous')\n",
    "    return im_res"
   ]
  },
  {
   "cell_type": "code",
   "execution_count": null,
   "metadata": {
    "collapsed": true
   },
   "outputs": [],
   "source": [
    "def load_train_batch_from_nifti_image(batch_size):\n",
    "    idx = np.random.randint(train_im_list.size)\n",
    "    im_path = train_im_list[idx]\n",
    "    msk_path = train_msk_list[idx]\n",
    "    im = nib.load(im_path)\n",
    "    im_prep = preprocess_image(im)\n",
    "    im_arr = im_prep.get_data()\n",
    "    msk = nib.load(msk_path)\n",
    "    msk_prep = preprocess_image(msk)\n",
    "    msk_arr = msk_prep.get_data()\n",
    "    # im and msk batches\n",
    "    idxs = np.random.randint(im_arr.shape[0], size=batch_size)\n",
    "    im_batch = im_arr[idxs, :,:]\n",
    "    msk_batch = msk_arr[idxs, :,:]\n",
    "    return im_batch, msk_batch"
   ]
  },
  {
   "cell_type": "code",
   "execution_count": null,
   "metadata": {
    "collapsed": true
   },
   "outputs": [],
   "source": [
    "def fill_feed_dict(input_pl, mask_pl, im_batch, msk_batch, slice_counter):\n",
    "    frame_im = im_batch[slice_counter,:,:]\n",
    "    frame_msk = msk_batch[slice_counter,:,:]\n",
    "    r,c = frame_im.shape\n",
    "    frame_im = np.reshape(frame_im, (1,r,c,1))\n",
    "    frame_msk = np.reshape(frame_msk, (1,r,c,1))\n",
    "    feed_dict = {input_pl: frame_im, mask_pl: frame_msk}\n",
    "    return feed_dict"
   ]
  },
  {
   "cell_type": "code",
   "execution_count": null,
   "metadata": {
    "collapsed": true
   },
   "outputs": [],
   "source": [
    "def get_mask_from_prediction(pred):\n",
    "    pred = np.squeeze(pred, axis=0)\n",
    "    msk_pred = np.argmax(pred, axis=2)\n",
    "    return msk_pred"
   ]
  },
  {
   "cell_type": "code",
   "execution_count": null,
   "metadata": {
    "collapsed": true
   },
   "outputs": [],
   "source": [
    "def plot_scores():\n",
    "    channels = 2\n",
    "    layer = layer_dict['score']\n",
    "    plt.figure(figsize=(10,10))\n",
    "    plt.subplot(121)\n",
    "    plt.imshow(layer[0,:,:,0])\n",
    "    plt.subplot(122)\n",
    "    plt.imshow(layer[0,:,:,1])\n",
    "    plt.show()"
   ]
  },
  {
   "cell_type": "code",
   "execution_count": null,
   "metadata": {
    "collapsed": true
   },
   "outputs": [],
   "source": [
    "restore = False\n",
    "learning_rate = 1e-5\n",
    "max_steps = 50\n",
    "\n",
    "#Create a U-Net instance\n",
    "with tf.Graph().as_default():\n",
    "    # Placeholders\n",
    "    input_pl = tf.placeholder(tf.float32, shape=(10, 1024, 1024, 1))\n",
    "    mask_pl = tf.placeholder(tf.float32, shape=(10, 1024, 1024, 1))\n",
    "    # Ops\n",
    "    prediction_op = inference(input_pl)\n",
    "    loss_op = loss(mask_pl, prediction_op) \n",
    "    train_op = training(loss_op, learning_rate)\n",
    "    # Create session\n",
    "    sess = tf.InteractiveSession()\n",
    "    # Run the Op to initialize the variables.\n",
    "    saver = tf.train.Saver()\n",
    "    if restore == False:\n",
    "        init = tf.global_variables_initializer()\n",
    "        sess.run(init)\n",
    "    elif restore == True:\n",
    "        checkpoint_file = '{}unet_2d_model_1000.ckpt'.format(ckpt_dir) \n",
    "        print('Loading variables from checkpoint_file')\n",
    "        saver.restore(sess, checkpoint_file)\n",
    "    batch_size = 50\n",
    "    # Train loop\n",
    "    print('Training:')\n",
    "    for step in range(max_steps):\n",
    "        # Load image (and hence a batch of 50 images)\n",
    "        im_batch, msk_batch = load_train_batch_from_nifti_image(batch_size=50)\n",
    "        # Feed images from this batch\n",
    "        for i in range(batch_size):\n",
    "            start_time = time.time()\n",
    "            input_dict = fill_feed_dict(input_pl, mask_pl, im_batch, msk_batch, i)\n",
    "            activations, pred, loss = sess.run([train_op, prediction_op, loss_op], feed_dict=input_dict)\n",
    "            duration = time.time() - start_time\n",
    "            \n",
    "            # Print after each epoch\n",
    "            if i == 0:\n",
    "                print('Step %s: loss = %s' % (step, loss))\n",
    "\n",
    "            # Show images \n",
    "            '''\n",
    "            if step % 5 == 0 and i == 0:\n",
    "                #plot_scores()\n",
    "                msk_pred = get_mask_from_prediction(pred)\n",
    "                plt.figure(figsize=(10,10))\n",
    "                plt.subplot(141)\n",
    "                plt.imshow(input_dict[input_pl][0,:,:,0])\n",
    "                plt.subplot(142)\n",
    "                plt.imshow(input_dict[mask_pl][0,:,:,0])\n",
    "                plt.subplot(143)\n",
    "                plt.imshow(msk_pred)\n",
    "                #plt.subplot(144)\n",
    "                #plt.imshow(loss_im[0,:,:])\n",
    "                plt.show()\n",
    "            '''\n",
    "            \n",
    "            # Store parameter values in checkpoint file\n",
    "            if step+1 == (max_steps/2) or step+1 == max_steps:\n",
    "                if i == 0:\n",
    "                    checkpoint_file = '{}/unet_2d_model_{}.ckpt'.format(ckpt_dir, str(step+1))\n",
    "            "
   ]
  }
 ],
 "metadata": {
  "kernelspec": {
   "display_name": "Python 3",
   "language": "python",
   "name": "python3"
  },
  "language_info": {
   "codemirror_mode": {
    "name": "ipython",
    "version": 3
   },
   "file_extension": ".py",
   "mimetype": "text/x-python",
   "name": "python",
   "nbconvert_exporter": "python",
   "pygments_lexer": "ipython3",
   "version": "3.5.2"
  }
 },
 "nbformat": 4,
 "nbformat_minor": 2
}
